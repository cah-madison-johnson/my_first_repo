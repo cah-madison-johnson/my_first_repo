{
 "cells": [
  {
   "cell_type": "code",
   "execution_count": 1,
   "id": "4b47e114-9a2e-4838-8b21-b8fffe5a0eb1",
   "metadata": {},
   "outputs": [],
   "source": [
    "import pandas as pd"
   ]
  },
  {
   "cell_type": "markdown",
   "id": "9716f8b8-cccb-4b34-b07c-2396c1516f85",
   "metadata": {},
   "source": [
    "# October"
   ]
  },
  {
   "cell_type": "code",
   "execution_count": 2,
   "id": "6bd6fbe6-986b-401f-a368-b69f43a13da2",
   "metadata": {
    "tags": []
   },
   "outputs": [],
   "source": [
    "df = pd.read_csv('october_2023.csv')"
   ]
  },
  {
   "cell_type": "code",
   "execution_count": 3,
   "id": "ffc86e1e-b6ee-44d3-81fc-63b223d53c51",
   "metadata": {
    "tags": []
   },
   "outputs": [
    {
     "data": {
      "text/html": [
       "<div>\n",
       "<style scoped>\n",
       "    .dataframe tbody tr th:only-of-type {\n",
       "        vertical-align: middle;\n",
       "    }\n",
       "\n",
       "    .dataframe tbody tr th {\n",
       "        vertical-align: top;\n",
       "    }\n",
       "\n",
       "    .dataframe thead th {\n",
       "        text-align: right;\n",
       "    }\n",
       "</style>\n",
       "<table border=\"1\" class=\"dataframe\">\n",
       "  <thead>\n",
       "    <tr style=\"text-align: right;\">\n",
       "      <th></th>\n",
       "      <th>CUSTOMER</th>\n",
       "      <th>DATE</th>\n",
       "      <th>CASH_FLOW</th>\n",
       "    </tr>\n",
       "  </thead>\n",
       "  <tbody>\n",
       "    <tr>\n",
       "      <th>0</th>\n",
       "      <td>CVS</td>\n",
       "      <td>2023-10-02</td>\n",
       "      <td>-2.271985e+08</td>\n",
       "    </tr>\n",
       "    <tr>\n",
       "      <th>1</th>\n",
       "      <td>KROGER</td>\n",
       "      <td>2023-10-02</td>\n",
       "      <td>-4.474187e+07</td>\n",
       "    </tr>\n",
       "    <tr>\n",
       "      <th>2</th>\n",
       "      <td>CVS</td>\n",
       "      <td>2023-10-03</td>\n",
       "      <td>-2.208724e+08</td>\n",
       "    </tr>\n",
       "    <tr>\n",
       "      <th>3</th>\n",
       "      <td>KROGER</td>\n",
       "      <td>2023-10-03</td>\n",
       "      <td>-1.009977e+08</td>\n",
       "    </tr>\n",
       "    <tr>\n",
       "      <th>4</th>\n",
       "      <td>CVS</td>\n",
       "      <td>2023-10-04</td>\n",
       "      <td>-1.373702e+08</td>\n",
       "    </tr>\n",
       "    <tr>\n",
       "      <th>...</th>\n",
       "      <td>...</td>\n",
       "      <td>...</td>\n",
       "      <td>...</td>\n",
       "    </tr>\n",
       "    <tr>\n",
       "      <th>99</th>\n",
       "      <td>KROGER</td>\n",
       "      <td>2023-10-29</td>\n",
       "      <td>NaN</td>\n",
       "    </tr>\n",
       "    <tr>\n",
       "      <th>100</th>\n",
       "      <td>CVS</td>\n",
       "      <td>2023-10-30</td>\n",
       "      <td>-2.100667e+08</td>\n",
       "    </tr>\n",
       "    <tr>\n",
       "      <th>101</th>\n",
       "      <td>KROGER</td>\n",
       "      <td>2023-10-30</td>\n",
       "      <td>-3.908128e+07</td>\n",
       "    </tr>\n",
       "    <tr>\n",
       "      <th>102</th>\n",
       "      <td>CVS</td>\n",
       "      <td>2023-10-31</td>\n",
       "      <td>-2.503028e+08</td>\n",
       "    </tr>\n",
       "    <tr>\n",
       "      <th>103</th>\n",
       "      <td>KROGER</td>\n",
       "      <td>2023-10-31</td>\n",
       "      <td>-8.121901e+07</td>\n",
       "    </tr>\n",
       "  </tbody>\n",
       "</table>\n",
       "<p>104 rows × 3 columns</p>\n",
       "</div>"
      ],
      "text/plain": [
       "    CUSTOMER        DATE     CASH_FLOW\n",
       "0        CVS  2023-10-02 -2.271985e+08\n",
       "1     KROGER  2023-10-02 -4.474187e+07\n",
       "2        CVS  2023-10-03 -2.208724e+08\n",
       "3     KROGER  2023-10-03 -1.009977e+08\n",
       "4        CVS  2023-10-04 -1.373702e+08\n",
       "..       ...         ...           ...\n",
       "99    KROGER  2023-10-29           NaN\n",
       "100      CVS  2023-10-30 -2.100667e+08\n",
       "101   KROGER  2023-10-30 -3.908128e+07\n",
       "102      CVS  2023-10-31 -2.503028e+08\n",
       "103   KROGER  2023-10-31 -8.121901e+07\n",
       "\n",
       "[104 rows x 3 columns]"
      ]
     },
     "execution_count": 3,
     "metadata": {},
     "output_type": "execute_result"
    }
   ],
   "source": [
    "df"
   ]
  },
  {
   "cell_type": "code",
   "execution_count": null,
   "id": "f4d9914e-86bf-4706-b93c-8aff89368104",
   "metadata": {},
   "outputs": [],
   "source": []
  }
 ],
 "metadata": {
  "environment": {
   "kernel": "python3",
   "name": ".m120",
   "type": "gcloud",
   "uri": "us-docker.pkg.dev/deeplearning-platform-release/gcr.io/:m120"
  },
  "kernelspec": {
   "display_name": "Python 3 (Local)",
   "language": "python",
   "name": "python3"
  },
  "language_info": {
   "codemirror_mode": {
    "name": "ipython",
    "version": 3
   },
   "file_extension": ".py",
   "mimetype": "text/x-python",
   "name": "python",
   "nbconvert_exporter": "python",
   "pygments_lexer": "ipython3",
   "version": "3.10.14"
  }
 },
 "nbformat": 4,
 "nbformat_minor": 5
}
